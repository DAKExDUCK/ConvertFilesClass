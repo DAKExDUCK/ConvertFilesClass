{
 "cells": [
  {
   "cell_type": "code",
   "execution_count": null,
   "metadata": {},
   "outputs": [],
   "source": [
    "from file_converter import JPG, PNG\n",
    "\n",
    "\n",
    "jpg = JPG('tmp/test.jpg')\n",
    "png_bytes = jpg.convert_to_png()\n",
    "png = PNG(png_bytes)\n",
    "# png.img.show()\n",
    "png.convert_to_jpg()"
   ]
  },
  {
   "cell_type": "code",
   "execution_count": null,
   "metadata": {},
   "outputs": [],
   "source": [
    "from file_converter import PDF\n",
    "\n",
    "\n",
    "docx = PDF('media/imput.pdf')\n",
    "pdf = docx.convert_to_docx()\n",
    "with open('media/output/text.docx', 'wb') as outfile:\n",
    "    outfile.write(pdf.getbuffer())"
   ]
  },
  {
   "cell_type": "code",
   "execution_count": null,
   "metadata": {},
   "outputs": [],
   "source": [
    "from file_converter import DOCX\n",
    "\n",
    "\n",
    "docx = DOCX('media/input.docx')\n",
    "pdf = docx.convert_to_pdf()\n",
    "with open('media/output/test.pdf', 'wb') as outfile:\n",
    "    outfile.write(pdf.getbuffer())"
   ]
  },
  {
   "cell_type": "code",
   "execution_count": null,
   "metadata": {},
   "outputs": [],
   "source": []
  },
  {
   "cell_type": "code",
   "execution_count": null,
   "metadata": {},
   "outputs": [],
   "source": []
  }
 ],
 "metadata": {
  "kernelspec": {
   "display_name": "venv",
   "language": "python",
   "name": "python3"
  },
  "language_info": {
   "codemirror_mode": {
    "name": "ipython",
    "version": 3
   },
   "file_extension": ".py",
   "mimetype": "text/x-python",
   "name": "python",
   "nbconvert_exporter": "python",
   "pygments_lexer": "ipython3",
   "version": "3.10.12"
  },
  "orig_nbformat": 4
 },
 "nbformat": 4,
 "nbformat_minor": 2
}
