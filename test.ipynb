{
 "cells": [
  {
   "cell_type": "code",
   "execution_count": null,
   "metadata": {},
   "outputs": [],
   "source": [
    "from file_converter import JPG, PNG\n",
    "\n",
    "\n",
    "jpg = JPG('tmp/test.jpg')\n",
    "png_bytes = jpg.convert_to_png()\n",
    "png = PNG(png_bytes)\n",
    "png.img.show()"
   ]
  },
  {
   "cell_type": "code",
   "execution_count": null,
   "metadata": {},
   "outputs": [],
   "source": [
    "from file_converter import PDF\n",
    "\n",
    "\n",
    "docx = PDF('media/imput.pdf')\n",
    "pdf = docx.convert_to_docx()\n",
    "with open('media/output/text.docx', 'wb') as outfile:\n",
    "    outfile.write(pdf.getbuffer())"
   ]
  },
  {
   "cell_type": "code",
   "execution_count": null,
   "metadata": {},
   "outputs": [],
   "source": [
    "from file_converter import DOCX\n",
    "\n",
    "\n",
    "docx = DOCX('media/input.docx')\n",
    "pdf = docx.convert_to_pdf()\n",
    "with open('media/output/test.pdf', 'wb') as outfile:\n",
    "    outfile.write(pdf.getbuffer())"
   ]
  },
  {
   "cell_type": "code",
   "execution_count": null,
   "metadata": {},
   "outputs": [],
   "source": []
  },
  {
   "cell_type": "code",
   "execution_count": 4,
   "metadata": {},
   "outputs": [],
   "source": [
    "formats = {\n",
    "    'docx': {\n",
    "        'pdf': {},\n",
    "        'odt': {},\n",
    "        'html': {},\n",
    "        'txt': {},\n",
    "        'rtf': {}\n",
    "    },\n",
    "    'pdf': {\n",
    "        'docx': {},\n",
    "        'xlsx': {},\n",
    "        'pptx': {},\n",
    "        'odt': {},\n",
    "        'ods': {},\n",
    "        'html': {},\n",
    "        'txt': {}\n",
    "    },\n",
    "    'png': {\n",
    "        'jpg': {},\n",
    "        'bmp': {},\n",
    "        'tiff': {},\n",
    "    },\n",
    "    'jpg': {\n",
    "        'png': {},\n",
    "        'bmp': {},\n",
    "        'tiff': {},\n",
    "    }\n",
    "}"
   ]
  },
  {
   "cell_type": "code",
   "execution_count": 5,
   "metadata": {},
   "outputs": [
    {
     "name": "stdout",
     "output_type": "stream",
     "text": [
      "input_1.docx -> pdf, odt, html, txt, rtf\n",
      "input_2.docx -> pdf, odt, html, txt, rtf\n",
      "input_3.docx -> pdf, odt, html, txt, rtf\n",
      "input_4.pdf -> html\n",
      "input_5.pdf -> html\n",
      "input_6.pdf -> html\n",
      "input_7.png -> jpg, bmp, tiff\n",
      "input_8.png -> jpg, bmp, tiff\n",
      "input_9.jpg -> png, bmp, tiff\n"
     ]
    }
   ],
   "source": [
    "import os\n",
    "from file_converter import define_class_for_format\n",
    "from file_converter.types import Document\n",
    "\n",
    "\n",
    "dir_path = 'media'\n",
    "listdir = os.listdir(dir_path)\n",
    "listdir.sort()\n",
    "for path in listdir:\n",
    "    if not os.path.isfile(os.path.join(dir_path, path)):\n",
    "        continue\n",
    "    \n",
    "    input_name, input_format = path.split('.')\n",
    "    if input_format not in formats:\n",
    "        continue\n",
    "\n",
    "    format_class = define_class_for_format(input_format)\n",
    "    dest_formats = formats[input_format]\n",
    "    input_obj = format_class(f'{dir_path}/{path}')\n",
    "\n",
    "    success_formats = []\n",
    "    for dest_format, data in dest_formats.items():\n",
    "        try:\n",
    "            output_obj = input_obj.convert_to(dest_format)\n",
    "        except:\n",
    "            ...\n",
    "        else:\n",
    "            with open(f'media/output/output_{input_name.split(\"_\")[1]}.{dest_format}', 'wb') as outfile:\n",
    "                outfile.write(output_obj.getbuffer())\n",
    "            success_formats.append(dest_format)\n",
    "\n",
    "    print(f\"{path} -> {', '.join(success_formats)}\")\n",
    "    "
   ]
  },
  {
   "cell_type": "code",
   "execution_count": null,
   "metadata": {},
   "outputs": [],
   "source": []
  },
  {
   "cell_type": "code",
   "execution_count": null,
   "metadata": {},
   "outputs": [],
   "source": []
  },
  {
   "cell_type": "code",
   "execution_count": null,
   "metadata": {},
   "outputs": [],
   "source": []
  },
  {
   "cell_type": "code",
   "execution_count": null,
   "metadata": {},
   "outputs": [],
   "source": []
  },
  {
   "cell_type": "code",
   "execution_count": null,
   "metadata": {},
   "outputs": [],
   "source": []
  },
  {
   "cell_type": "code",
   "execution_count": null,
   "metadata": {},
   "outputs": [],
   "source": []
  }
 ],
 "metadata": {
  "kernelspec": {
   "display_name": "venv",
   "language": "python",
   "name": "python3"
  },
  "language_info": {
   "codemirror_mode": {
    "name": "ipython",
    "version": 3
   },
   "file_extension": ".py",
   "mimetype": "text/x-python",
   "name": "python",
   "nbconvert_exporter": "python",
   "pygments_lexer": "ipython3",
   "version": "3.10.12"
  },
  "orig_nbformat": 4
 },
 "nbformat": 4,
 "nbformat_minor": 2
}
