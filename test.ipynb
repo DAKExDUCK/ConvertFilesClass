{
 "cells": [
  {
   "cell_type": "code",
   "execution_count": null,
   "metadata": {},
   "outputs": [],
   "source": [
    "from file_converter import JPG, PNG\n",
    "\n",
    "\n",
    "jpg = JPG('media/input_9.jpg')\n",
    "png_bytes = jpg.convert_to_png()\n",
    "with open('media/output/text.docx', 'wb') as outfile:\n",
    "    outfile.write(png_bytes.getbuffer())\n",
    "\n",
    "png = PNG(png_bytes)\n",
    "png.img.show()\n",
    "\n",
    "# example of converting image and show it"
   ]
  },
  {
   "cell_type": "code",
   "execution_count": null,
   "metadata": {},
   "outputs": [],
   "source": [
    "from file_converter import PDF\n",
    "\n",
    "\n",
    "docx = PDF('media/input_4.pdf')\n",
    "pdf = docx.convert_to_docx()\n",
    "with open('media/output/text.docx', 'wb') as outfile:\n",
    "    outfile.write(pdf.getbuffer())\n",
    "\n",
    "# example of Error while converting file (cannot convert pdf to docx for now)\n",
    "# Why? idk"
   ]
  },
  {
   "cell_type": "code",
   "execution_count": null,
   "metadata": {},
   "outputs": [],
   "source": [
    "from file_converter import DOCX\n",
    "\n",
    "\n",
    "docx = DOCX('media/input.docx')\n",
    "pdf = docx.convert_to_pdf()\n",
    "with open('media/output/test.pdf', 'wb') as outfile:\n",
    "    outfile.write(pdf.getbuffer())"
   ]
  },
  {
   "cell_type": "code",
   "execution_count": null,
   "metadata": {},
   "outputs": [],
   "source": []
  },
  {
   "cell_type": "code",
   "execution_count": 2,
   "metadata": {},
   "outputs": [],
   "source": [
    "formats = {\n",
    "    'docx': {\n",
    "        'pdf': {},\n",
    "        'odt': {},\n",
    "        'html': {},\n",
    "        'txt': {},\n",
    "        'rtf': {}\n",
    "    },\n",
    "    'pdf': {\n",
    "        'docx': {},\n",
    "        'xlsx': {},\n",
    "        'pptx': {},\n",
    "        'odt': {},\n",
    "        'ods': {},\n",
    "        'html': {},\n",
    "        'txt': {}\n",
    "    },\n",
    "    'png': {\n",
    "        'jpg': {},\n",
    "        'bmp': {},\n",
    "        'tiff': {},\n",
    "    },\n",
    "    'jpg': {\n",
    "        'png': {},\n",
    "        'bmp': {},\n",
    "        'tiff': {},\n",
    "    }\n",
    "}"
   ]
  },
  {
   "cell_type": "code",
   "execution_count": 6,
   "metadata": {},
   "outputs": [
    {
     "name": "stdout",
     "output_type": "stream",
     "text": [
      "docx_input_1.docx -> pdf, odt, html, txt, rtf\n",
      "docx_input_2.docx -> pdf, odt, html, txt, rtf\n",
      "jpg_input_1.jpg -> png, bmp, tiff\n",
      "jpg_input_2.jpg -> png, bmp, tiff\n",
      "jpg_input_3.jpg -> png, bmp, tiff\n",
      "pdf_input_1.pdf -> html\n",
      "pdf_input_2.pdf -> html\n",
      "pdf_input_3.pdf -> html\n",
      "png_input_1.png -> jpg, bmp, tiff\n",
      "png_input_2.png -> jpg, bmp, tiff\n",
      "\n",
      "docx -> pdf - 1.032sec avg | 0.718sec min | 1.841sec max\n",
      "docx -> odt - 1.208sec avg | 0.846sec min | 2.083sec max\n",
      "docx -> html - 0.899sec avg | 0.652sec min | 1.675sec max\n",
      "docx -> txt - 0.813sec avg | 0.621sec min | 1.731sec max\n",
      "docx -> rtf - 0.844sec avg | 0.663sec min | 1.728sec max\n",
      "pdf -> html - 0.820sec avg | 0.734sec min | 0.931sec max\n",
      "png -> jpg - 0.005sec avg | 0.003sec min | 0.007sec max\n",
      "png -> bmp - 0.002sec avg | 0.001sec min | 0.002sec max\n",
      "png -> tiff - 0.002sec avg | 0.001sec min | 0.003sec max\n",
      "jpg -> png - 0.126sec avg | 0.010sec min | 0.325sec max\n",
      "jpg -> bmp - 0.001sec avg | 0.000sec min | 0.004sec max\n",
      "jpg -> tiff - 0.003sec avg | 0.001sec min | 0.019sec max\n"
     ]
    }
   ],
   "source": [
    "# test module for converting files to some formats (tested and new)\n",
    "import os\n",
    "import time\n",
    "from file_converter import define_class_for_format\n",
    "\n",
    "\n",
    "dir_path = 'media'\n",
    "listdir = os.listdir(dir_path)\n",
    "listdir.sort()\n",
    "for path in listdir:\n",
    "    if not os.path.isfile(os.path.join(dir_path, path)):\n",
    "        continue\n",
    "    \n",
    "    input_name, input_format = path.split('.')\n",
    "    if input_format not in formats:\n",
    "        continue\n",
    "\n",
    "    format_class = define_class_for_format(input_format)\n",
    "    dest_formats = formats[input_format]\n",
    "    input_obj = format_class(f'{dir_path}/{path}')\n",
    "\n",
    "    success_formats = []\n",
    "    for dest_format, data in dest_formats.items():\n",
    "        if data == {}:\n",
    "            data['test_time'] = [] \n",
    "        try:\n",
    "            start_time = time.time()\n",
    "            output_obj = input_obj.convert_to(dest_format)\n",
    "            data['test_time'].append(time.time() - start_time)\n",
    "        except:\n",
    "            ...\n",
    "        else:\n",
    "            with open(f'media/output/output_{input_name.split(\"_\")[1]}.{dest_format}', 'wb') as outfile:\n",
    "                outfile.write(output_obj.getbuffer())\n",
    "            success_formats.append(dest_format)\n",
    "\n",
    "    print(f\"{path} -> {', '.join(success_formats)}\")\n",
    "    \n",
    "print()\n",
    "for from_format, to_formats in formats.items():\n",
    "    for to_format, data in to_formats.items():\n",
    "        times = data.get('test_time', [])\n",
    "        if times == []:\n",
    "            continue\n",
    "\n",
    "        avg_time = sum(times) / len(times)\n",
    "        min_time = min(times)\n",
    "        max_time = max(times)\n",
    "        print(f\"{from_format} -> {to_format} - {avg_time:.3f}sec avg | {min_time:.3f}sec min | {max_time:.3f}sec max\")"
   ]
  },
  {
   "cell_type": "code",
   "execution_count": null,
   "metadata": {},
   "outputs": [],
   "source": [
    "from pprint import pprint\n",
    "\n",
    "\n",
    "pprint(formats)"
   ]
  },
  {
   "cell_type": "code",
   "execution_count": 1,
   "metadata": {},
   "outputs": [],
   "source": [
    "# sort and name test files\n",
    "import os\n",
    "\n",
    "def rename_files(directory):\n",
    "    file_count = {}\n",
    "    for filename in os.listdir(directory):\n",
    "        if os.path.isfile(os.path.join(directory, filename)):\n",
    "            file_extension = os.path.splitext(filename)[1][1:]\n",
    "            if file_extension not in file_count:\n",
    "                file_count[file_extension] = 1\n",
    "            else:\n",
    "                file_count[file_extension] += 1\n",
    "\n",
    "            new_filename = f\"{file_extension}_input_{file_count[file_extension]}.{file_extension}\"\n",
    "            os.rename(os.path.join(directory, filename), os.path.join(directory, new_filename))\n",
    "\n",
    "directory_path = \"media\"\n",
    "\n",
    "rename_files(directory_path)\n"
   ]
  },
  {
   "cell_type": "code",
   "execution_count": null,
   "metadata": {},
   "outputs": [],
   "source": []
  },
  {
   "cell_type": "code",
   "execution_count": null,
   "metadata": {},
   "outputs": [],
   "source": []
  },
  {
   "cell_type": "code",
   "execution_count": null,
   "metadata": {},
   "outputs": [],
   "source": []
  },
  {
   "cell_type": "code",
   "execution_count": null,
   "metadata": {},
   "outputs": [],
   "source": []
  }
 ],
 "metadata": {
  "kernelspec": {
   "display_name": "venv",
   "language": "python",
   "name": "python3"
  },
  "language_info": {
   "codemirror_mode": {
    "name": "ipython",
    "version": 3
   },
   "file_extension": ".py",
   "mimetype": "text/x-python",
   "name": "python",
   "nbconvert_exporter": "python",
   "pygments_lexer": "ipython3",
   "version": "3.10.12"
  },
  "orig_nbformat": 4
 },
 "nbformat": 4,
 "nbformat_minor": 2
}
