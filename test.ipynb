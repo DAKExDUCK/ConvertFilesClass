{
 "cells": [
  {
   "cell_type": "code",
   "execution_count": null,
   "metadata": {},
   "outputs": [],
   "source": [
    "from file_converter import JPG, PNG\n",
    "\n",
    "\n",
    "jpg = JPG('media/input_9.jpg')\n",
    "png_bytes = jpg.convert_to_png()\n",
    "with open('media/output/text.docx', 'wb') as outfile:\n",
    "    outfile.write(png_bytes.getbuffer())\n",
    "\n",
    "png = PNG(png_bytes)\n",
    "png.img.show()\n",
    "\n",
    "# example of converting image and show it"
   ]
  },
  {
   "cell_type": "code",
   "execution_count": 2,
   "metadata": {},
   "outputs": [
    {
     "ename": "BaseException",
     "evalue": "Error while converting file",
     "output_type": "error",
     "traceback": [
      "\u001b[0;31m---------------------------------------------------------------------------\u001b[0m",
      "\u001b[0;31mBaseException\u001b[0m                             Traceback (most recent call last)",
      "Cell \u001b[0;32mIn[2], line 5\u001b[0m\n\u001b[1;32m      1\u001b[0m \u001b[39mfrom\u001b[39;00m \u001b[39mfile_converter\u001b[39;00m \u001b[39mimport\u001b[39;00m PDF\n\u001b[1;32m      4\u001b[0m docx \u001b[39m=\u001b[39m PDF(\u001b[39m'\u001b[39m\u001b[39mmedia/input_4.pdf\u001b[39m\u001b[39m'\u001b[39m)\n\u001b[0;32m----> 5\u001b[0m pdf \u001b[39m=\u001b[39m docx\u001b[39m.\u001b[39;49mconvert_to_docx()\n\u001b[1;32m      6\u001b[0m \u001b[39mwith\u001b[39;00m \u001b[39mopen\u001b[39m(\u001b[39m'\u001b[39m\u001b[39mmedia/output/text.docx\u001b[39m\u001b[39m'\u001b[39m, \u001b[39m'\u001b[39m\u001b[39mwb\u001b[39m\u001b[39m'\u001b[39m) \u001b[39mas\u001b[39;00m outfile:\n\u001b[1;32m      7\u001b[0m     outfile\u001b[39m.\u001b[39mwrite(pdf\u001b[39m.\u001b[39mgetbuffer())\n",
      "File \u001b[0;32m~/Projects/python/file_converter/file_converter/types/document.py:39\u001b[0m, in \u001b[0;36mDocument._create_conversion_func.<locals>.conversion_func\u001b[0;34m()\u001b[0m\n\u001b[1;32m     33\u001b[0m result \u001b[39m=\u001b[39m subprocess\u001b[39m.\u001b[39mrun(\n\u001b[1;32m     34\u001b[0m     cmd,\n\u001b[1;32m     35\u001b[0m     stderr\u001b[39m=\u001b[39msubprocess\u001b[39m.\u001b[39mPIPE,\n\u001b[1;32m     36\u001b[0m     stdout\u001b[39m=\u001b[39msubprocess\u001b[39m.\u001b[39mPIPE\n\u001b[1;32m     37\u001b[0m )\n\u001b[1;32m     38\u001b[0m \u001b[39mif\u001b[39;00m result\u001b[39m.\u001b[39mstderr \u001b[39m!=\u001b[39m \u001b[39mb\u001b[39m\u001b[39m'\u001b[39m\u001b[39m'\u001b[39m:\n\u001b[0;32m---> 39\u001b[0m     \u001b[39mraise\u001b[39;00m \u001b[39mBaseException\u001b[39;00m(\u001b[39m\"\u001b[39m\u001b[39mError while converting file\u001b[39m\u001b[39m\"\u001b[39m)\n\u001b[1;32m     41\u001b[0m \u001b[39mwith\u001b[39;00m \u001b[39mopen\u001b[39m(outdir\u001b[39m+\u001b[39m\u001b[39m'\u001b[39m\u001b[39m/\u001b[39m\u001b[39m'\u001b[39m\u001b[39m+\u001b[39mfilepath\u001b[39m.\u001b[39msplit(\u001b[39m'\u001b[39m\u001b[39m/\u001b[39m\u001b[39m'\u001b[39m)[\u001b[39m-\u001b[39m\u001b[39m1\u001b[39m]\u001b[39m.\u001b[39msplit(\u001b[39m'\u001b[39m\u001b[39m.\u001b[39m\u001b[39m'\u001b[39m)[\u001b[39m0\u001b[39m]\u001b[39m+\u001b[39m\u001b[39m'\u001b[39m\u001b[39m.\u001b[39m\u001b[39m'\u001b[39m\u001b[39m+\u001b[39mconversion_type, \u001b[39m'\u001b[39m\u001b[39mrb\u001b[39m\u001b[39m'\u001b[39m) \u001b[39mas\u001b[39;00m tmp_file:\n\u001b[1;32m     42\u001b[0m     \u001b[39mreturn\u001b[39;00m BytesIO(tmp_file\u001b[39m.\u001b[39mread())\n",
      "\u001b[0;31mBaseException\u001b[0m: Error while converting file"
     ]
    }
   ],
   "source": [
    "from file_converter import PDF\n",
    "\n",
    "\n",
    "docx = PDF('media/input_4.pdf')\n",
    "pdf = docx.convert_to_docx()\n",
    "with open('media/output/text.docx', 'wb') as outfile:\n",
    "    outfile.write(pdf.getbuffer())\n",
    "\n",
    "# example of Error while converting file (cannot convert pdf to docx for now)\n",
    "# Why? idk"
   ]
  },
  {
   "cell_type": "code",
   "execution_count": null,
   "metadata": {},
   "outputs": [],
   "source": [
    "from file_converter import DOCX\n",
    "\n",
    "\n",
    "docx = DOCX('media/input.docx')\n",
    "pdf = docx.convert_to_pdf()\n",
    "with open('media/output/test.pdf', 'wb') as outfile:\n",
    "    outfile.write(pdf.getbuffer())"
   ]
  },
  {
   "cell_type": "code",
   "execution_count": null,
   "metadata": {},
   "outputs": [],
   "source": []
  },
  {
   "cell_type": "code",
   "execution_count": null,
   "metadata": {},
   "outputs": [],
   "source": [
    "formats = {\n",
    "    'docx': {\n",
    "        'pdf': {},\n",
    "        'odt': {},\n",
    "        'html': {},\n",
    "        'txt': {},\n",
    "        'rtf': {}\n",
    "    },\n",
    "    'pdf': {\n",
    "        'docx': {},\n",
    "        'xlsx': {},\n",
    "        'pptx': {},\n",
    "        'odt': {},\n",
    "        'ods': {},\n",
    "        'html': {},\n",
    "        'txt': {}\n",
    "    },\n",
    "    'png': {\n",
    "        'jpg': {},\n",
    "        'bmp': {},\n",
    "        'tiff': {},\n",
    "    },\n",
    "    'jpg': {\n",
    "        'png': {},\n",
    "        'bmp': {},\n",
    "        'tiff': {},\n",
    "    }\n",
    "}"
   ]
  },
  {
   "cell_type": "code",
   "execution_count": null,
   "metadata": {},
   "outputs": [],
   "source": [
    "import os\n",
    "from file_converter import define_class_for_format\n",
    "\n",
    "\n",
    "dir_path = 'media'\n",
    "listdir = os.listdir(dir_path)\n",
    "listdir.sort()\n",
    "for path in listdir:\n",
    "    if not os.path.isfile(os.path.join(dir_path, path)):\n",
    "        continue\n",
    "    \n",
    "    input_name, input_format = path.split('.')\n",
    "    if input_format not in formats:\n",
    "        continue\n",
    "\n",
    "    format_class = define_class_for_format(input_format)\n",
    "    dest_formats = formats[input_format]\n",
    "    input_obj = format_class(f'{dir_path}/{path}')\n",
    "\n",
    "    success_formats = []\n",
    "    for dest_format, data in dest_formats.items():\n",
    "        try:\n",
    "            output_obj = input_obj.convert_to(dest_format)\n",
    "        except:\n",
    "            ...\n",
    "        else:\n",
    "            with open(f'media/output/output_{input_name.split(\"_\")[1]}.{dest_format}', 'wb') as outfile:\n",
    "                outfile.write(output_obj.getbuffer())\n",
    "            success_formats.append(dest_format)\n",
    "\n",
    "    print(f\"{path} -> {', '.join(success_formats)}\")\n",
    "    "
   ]
  },
  {
   "cell_type": "code",
   "execution_count": null,
   "metadata": {},
   "outputs": [],
   "source": []
  },
  {
   "cell_type": "code",
   "execution_count": null,
   "metadata": {},
   "outputs": [],
   "source": []
  },
  {
   "cell_type": "code",
   "execution_count": null,
   "metadata": {},
   "outputs": [],
   "source": []
  },
  {
   "cell_type": "code",
   "execution_count": null,
   "metadata": {},
   "outputs": [],
   "source": []
  },
  {
   "cell_type": "code",
   "execution_count": null,
   "metadata": {},
   "outputs": [],
   "source": []
  },
  {
   "cell_type": "code",
   "execution_count": null,
   "metadata": {},
   "outputs": [],
   "source": []
  }
 ],
 "metadata": {
  "kernelspec": {
   "display_name": "venv",
   "language": "python",
   "name": "python3"
  },
  "language_info": {
   "codemirror_mode": {
    "name": "ipython",
    "version": 3
   },
   "file_extension": ".py",
   "mimetype": "text/x-python",
   "name": "python",
   "nbconvert_exporter": "python",
   "pygments_lexer": "ipython3",
   "version": "3.10.12"
  },
  "orig_nbformat": 4
 },
 "nbformat": 4,
 "nbformat_minor": 2
}
